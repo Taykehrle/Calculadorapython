{
  "nbformat": 4,
  "nbformat_minor": 0,
  "metadata": {
    "colab": {
      "name": "Calculadora simples em python.ipynb",
      "provenance": [],
      "authorship_tag": "ABX9TyP2YJ8HSW4U/gvnPvBbhEjA",
      "include_colab_link": true
    },
    "kernelspec": {
      "name": "python3",
      "display_name": "Python 3"
    },
    "language_info": {
      "name": "python"
    }
  },
  "cells": [
    {
      "cell_type": "markdown",
      "metadata": {
        "id": "view-in-github",
        "colab_type": "text"
      },
      "source": [
        "<a href=\"https://colab.research.google.com/github/Taykehrle/Calculadorapython/blob/main/Calculadora_simples_em_python.ipynb\" target=\"_parent\"><img src=\"https://colab.research.google.com/assets/colab-badge.svg\" alt=\"Open In Colab\"/></a>"
      ]
    },
    {
      "cell_type": "markdown",
      "metadata": {
        "id": "Nt2EQo5WBML6"
      },
      "source": [
        "## **CALCULADORA BÁSICA EM PYTHON**"
      ]
    },
    {
      "cell_type": "code",
      "metadata": {
        "id": "XbvekShm8u9B"
      },
      "source": [
        "# Imprimindo o número da operação desejada\n",
        "print(\"Selecione o número da operação desejada:\")\n",
        "print(\"1 - Soma\\n2 - Subtração\\n3 - Multiplicação\\n4 - Divisão\")\n",
        "\n",
        "# Solicitando ao usuário a opção escolhida dentre as operações disponíveis\n",
        "opcoes = [1,2,3,4]\n",
        "operacao = int(input(\"Digite sua opção (1/2/3/4):\"))\n",
        "print(\"-\"*50)\n",
        "\n",
        "# Solicitando ao usuário os números que serão utilizados na operação\n",
        "primeiro_num = int(input(\"Digite o primeiro número:\"))\n",
        "print(\"-\"*50)\n",
        "segundo_num = int(input(\"Digite o segundo número:\"))\n",
        "print(\"-\"*50)\n",
        "\n",
        "# Realizando a operação\n",
        "if operacao == 1:\n",
        "  soma = primeiro_num + segundo_num\n",
        "  print('{}+{} = {}'.format(primeiro_num,segundo_num,soma))\n",
        "if operacao == 2:\n",
        "  sub = primeiro_num - segundo_num\n",
        "  print('{}-{} = {}'.format(primeiro_num,segundo_num,sub))\n",
        "if operacao == 3:\n",
        "  mult = primeiro_num * segundo_num\n",
        "  print('{}x{} = {}'.format(primeiro_num,segundo_num,mult))\n",
        "if operacao == 4:\n",
        "  div = primeiro_num / segundo_num\n",
        "  print('{}/{} = {}'.format(primeiro_num,segundo_num,div))\n",
        "\n",
        "# Imprimir recado quando a operação escolhida não está entre as opções disponíveis  \n",
        "if operacao not in opcoes:\n",
        "  print(\"Opção inválida\")"
      ],
      "execution_count": null,
      "outputs": []
    },
    {
      "cell_type": "code",
      "metadata": {
        "id": "aaUKUZCXCFQp"
      },
      "source": [
        ""
      ],
      "execution_count": null,
      "outputs": []
    }
  ]
}